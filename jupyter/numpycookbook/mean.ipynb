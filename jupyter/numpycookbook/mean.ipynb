{
 "cells": [
  {
   "attachments": {},
   "cell_type": "markdown",
   "metadata": {},
   "source": [
    "# 1.numpy.mean()函数的功能是求取平均值\n",
    "```python\n",
    "np.mean(a, # 必须是数组\n",
    "\t\taxis=None,\n",
    "\t\tdtype=None, \n",
    "\t\tout=None,\n",
    "\t\tkeepdims=<class 'numpy._globals._NoValue'>\n",
    "\t\twhere=optional)\n",
    "\t\t\n",
    "```\n",
    "\n",
    " **Parameters**\t：\n",
    " \n",
    "&emsp;&emsp;&emsp;&emsp;**a** : array_like<br>\n",
    "&emsp;&emsp;&emsp;&emsp;&emsp;&emsp;数组里面包含需要被求平均值的数组，如果不是数组，将尝试转换<br><br>\n",
    "&emsp;&emsp;&emsp;&emsp;**axis** :None or int or tuple of ints, optional<br>\n",
    "&emsp;&emsp;&emsp;&emsp;&emsp;&emsp;需要计算的数组的轴,默认计算是展开成一维数组的平均值<br><br>\n",
    "&emsp;&emsp;&emsp;&emsp;**dype** :data-type,optional<br>\n",
    "&emsp;&emsp;&emsp;&emsp;&emsp;&emsp;平均计算的数据类型,对于整数型输入，默认值为float64,对于浮点数输入，计算结果类型和输入类型一样<br><br>\n",
    "&emsp;&emsp;&emsp;&emsp;**where**:array_like of bool, optional<br>\n",
    "&emsp;&emsp;&emsp;&emsp;&emsp;&emsp;选择需要mean去计算的元素<br>\n",
    "\n",
    "\n"
   ]
  },
  {
   "cell_type": "code",
   "execution_count": 4,
   "metadata": {},
   "outputs": [
    {
     "name": "stdout",
     "output_type": "stream",
     "text": [
      "mean of a =  2.5 \n",
      "\n",
      "mean.axis=0 of a =  [2. 3.] \n",
      "\n",
      "mean.axis=1 of a =  [1.5 3.5] \n",
      "\n"
     ]
    }
   ],
   "source": [
    "import numpy as np\n",
    "\n",
    "a = np.array([[1, 2], [3, 4]])\n",
    "print('mean of a = ',a.mean(),'\\n')\n",
    "print('mean.axis=0 of a = ',a.mean(axis=0),'\\n')\n",
    "print('mean.axis=1 of a = ',a.mean(axis=1),'\\n')\n"
   ]
  },
  {
   "attachments": {},
   "cell_type": "markdown",
   "metadata": {},
   "source": [
    "In single precision, mean can be inaccurate:"
   ]
  },
  {
   "cell_type": "code",
   "execution_count": 6,
   "metadata": {},
   "outputs": [
    {
     "name": "stdout",
     "output_type": "stream",
     "text": [
      "0.54999924\n"
     ]
    }
   ],
   "source": [
    "a = np.zeros((2, 512*512), dtype=np.float32)\n",
    "a[0,:] = 1.0\n",
    "a[1,:] = 0.1\n",
    "print(a.mean())"
   ]
  },
  {
   "attachments": {},
   "cell_type": "markdown",
   "metadata": {},
   "source": [
    "Computing the mean in float64 is more accurate:"
   ]
  },
  {
   "cell_type": "code",
   "execution_count": 7,
   "metadata": {},
   "outputs": [
    {
     "name": "stdout",
     "output_type": "stream",
     "text": [
      "0.5500000007450581\n"
     ]
    }
   ],
   "source": [
    "print(a.mean(dtype=np.float64))"
   ]
  },
  {
   "attachments": {},
   "cell_type": "markdown",
   "metadata": {},
   "source": [
    "Specifying a where argument:"
   ]
  },
  {
   "cell_type": "code",
   "execution_count": 9,
   "metadata": {},
   "outputs": [
    {
     "name": "stdout",
     "output_type": "stream",
     "text": [
      "mean of a 12.0 \n",
      "\n",
      "example of where : 9.0\n"
     ]
    }
   ],
   "source": [
    "a = np.array([[5, 9, 13], [14, 10, 12], [11, 15, 19]])\n",
    "print('mean of a',a.mean(),'\\n')\n",
    "print('example of where :',a.mean(where=[[True],[False],[False]]))"
   ]
  }
 ],
 "metadata": {
  "kernelspec": {
   "display_name": "DL",
   "language": "python",
   "name": "python3"
  },
  "language_info": {
   "codemirror_mode": {
    "name": "ipython",
    "version": 3
   },
   "file_extension": ".py",
   "mimetype": "text/x-python",
   "name": "python",
   "nbconvert_exporter": "python",
   "pygments_lexer": "ipython3",
   "version": "3.9.16"
  },
  "orig_nbformat": 4
 },
 "nbformat": 4,
 "nbformat_minor": 2
}
