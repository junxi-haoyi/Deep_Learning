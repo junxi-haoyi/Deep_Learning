{
 "cells": [
  {
   "attachments": {},
   "cell_type": "markdown",
   "metadata": {},
   "source": [
    "# 1.numpy.random.rand()\n",
    "`random.rand(d0, d1, ..., dn)`\n",
    "\n",
    "- rand函数根据给定维度生成[0,1)之间的数据，包含0，不包含1\n",
    "- dn表格每个维度\n",
    "- 返回值为指定维度的array"
   ]
  },
  {
   "cell_type": "code",
   "execution_count": 2,
   "metadata": {},
   "outputs": [
    {
     "name": "stdout",
     "output_type": "stream",
     "text": [
      "a = \n",
      "[[0.35793684 0.89745822]\n",
      " [0.10829431 0.3127184 ]\n",
      " [0.47061688 0.85293729]]\n",
      "b =\n",
      " [[[0.14165585 0.63081726 0.36107048 0.18093358]\n",
      "  [0.18388389 0.39723588 0.15022461 0.33332605]]\n",
      "\n",
      " [[0.63425381 0.72880067 0.65168853 0.63733105]\n",
      "  [0.36288701 0.04307004 0.74318393 0.01193894]]\n",
      "\n",
      " [[0.955629   0.55807121 0.06489828 0.78940684]\n",
      "  [0.51449676 0.31508277 0.31683279 0.15347632]]]\n"
     ]
    }
   ],
   "source": [
    "import numpy as np\n",
    "\n",
    "a = np.random.rand(3,2)\n",
    "print(f\"a = \\n{a}\")\n",
    "\n",
    "b = np.random.rand(3,2,4)\n",
    "print(f\"b =\\n {b}\")"
   ]
  },
  {
   "attachments": {},
   "cell_type": "markdown",
   "metadata": {},
   "source": [
    "# 2.numpy.random.randint\n",
    "`numpy.random.randint(low, high=None, size=None, dtype='l')`\n",
    "\n",
    "函数的作用是，返回一个随机整型数，范围从低（包括）到高（不包括），即[low, high)。\n",
    "如果没有写参数high的值，则返回[0,low)的值。\n",
    "\n",
    "参数如下：\n",
    "- low: int\n",
    "  生成的数值最低要大于等于low。\n",
    "  hign = None时，生成的数值要在[0, low)区间内）\n",
    "\n",
    "- high: int (可选)\n",
    "  如果使用这个值，则生成的数值在[low, high)区间。\n",
    "\n",
    "- size: int or tuple of ints(可选)\n",
    "  输出随机数的尺寸，比如size = (m * n* k)则输出同规模即m * n* k个随机数。默认是None的，仅仅返回满足要求的单一随机数。\n",
    "\n",
    "- dtype: dtype(可选)：\n",
    "  想要输出的格式。如int64、int等等\n",
    "\n",
    "输出：\n",
    "- out: int or ndarray of ints\n",
    "  返回一个随机数或随机数数组"
   ]
  },
  {
   "cell_type": "code",
   "execution_count": 1,
   "metadata": {},
   "outputs": [
    {
     "name": "stdout",
     "output_type": "stream",
     "text": [
      "a = [0 1 0 0 0 1 0 1 0 0]\n",
      "b = [0 0 0 0 0 0 0 0 0 0]\n",
      "c = [[2 4 0 1]\n",
      " [2 1 4 2]]\n",
      "d = [[7 7 7]\n",
      " [3 4 6]]\n"
     ]
    }
   ],
   "source": [
    "import numpy as np\n",
    "\n",
    "a = np.random.randint(2,size=10)\n",
    "b = np.random.randint(1, size=10)\n",
    "c = np.random.randint(5, size=(2, 4))\n",
    "d = np.random.randint(2, high=10, size=(2,3))\n",
    "print(f\"a = {a}\")\n",
    "print(f\"b = {b}\")\n",
    "print(f\"c = {c}\")\n",
    "print(f\"d = {d}\")"
   ]
  },
  {
   "attachments": {},
   "cell_type": "markdown",
   "metadata": {},
   "source": [
    "# 3.numpy.random.random\n",
    "`random.random(size=None)`\n",
    "返回半开区间 [0.0, 1.0) 中的随机浮点数。 random_sample 的别名，以方便前向移植到新的随机 API。"
   ]
  },
  {
   "cell_type": "code",
   "execution_count": 3,
   "metadata": {},
   "outputs": [
    {
     "name": "stdout",
     "output_type": "stream",
     "text": [
      "k = \n",
      "[[0.56997196 0.60466659 0.25606668 0.57441228]\n",
      " [0.37301265 0.63870633 0.81962022 0.51974078]\n",
      " [0.98712474 0.12995637 0.33617807 0.69357296]]\n",
      "y = \n",
      "[[[0.83072084 0.00974199 0.16466368 0.37468381]\n",
      "  [0.78037615 0.09021086 0.09343138 0.04966686]\n",
      "  [0.26807281 0.08250494 0.34844617 0.04822858]]\n",
      "\n",
      " [[0.98858427 0.35531467 0.72224202 0.69791543]\n",
      "  [0.35279979 0.26675261 0.68285359 0.81281112]\n",
      "  [0.6881012  0.79794091 0.8378843  0.83693434]]]\n"
     ]
    }
   ],
   "source": [
    "import numpy as np\n",
    " \n",
    "k = np.random.random((3, 4))\n",
    "y = np.random.random((2, 3, 4))\n",
    "print(f\"k = \\n{k}\")\n",
    "print(f\"y = \\n{y}\")"
   ]
  },
  {
   "attachments": {},
   "cell_type": "markdown",
   "metadata": {},
   "source": [
    "# 4.numpy.random.randn()\n",
    "`numpy.random.randn(d0,d1,…,dn)`\n",
    "- randn函数返回一个或一组样本，具有标准正态分布。\n",
    "- dn表格每个维度\n",
    "- 返回值为指定维度的array\n"
   ]
  },
  {
   "cell_type": "code",
   "execution_count": 4,
   "metadata": {},
   "outputs": [
    {
     "name": "stdout",
     "output_type": "stream",
     "text": [
      "a = 1.3249240063325345\n",
      "b = [[ 0.84728797 -0.94482844  0.90838561]\n",
      " [-0.17043169 -0.36087375  0.10760505]\n",
      " [-1.64392281 -0.5264926   0.12380622]\n",
      " [-0.23878486  1.58384081 -0.56831734]]\n",
      "c = [[[-0.73594008 -0.39193821]\n",
      "  [-1.2816847   0.56207623]\n",
      "  [-0.37899927  0.26479356]]\n",
      "\n",
      " [[ 0.50376801  0.56215045]\n",
      "  [ 0.51324376 -1.59487794]\n",
      "  [ 2.05952401 -1.32824142]]\n",
      "\n",
      " [[-1.20982895  1.33899934]\n",
      "  [ 0.14353652  0.30020948]\n",
      "  [ 1.468914   -0.32823859]]\n",
      "\n",
      " [[ 1.15250721 -1.23871564]\n",
      "  [ 0.0785517  -0.74838252]\n",
      "  [ 0.02980894  1.30355523]]]\n"
     ]
    }
   ],
   "source": [
    "import numpy as np\n",
    "\n",
    "a = np.random.randn()#没有参数时，返回但个数据\n",
    "print(f\"a = {a}\")\n",
    "\n",
    "\n",
    "b = np.random.randn(4,3)\n",
    "print(f\"b = {b}\")\n",
    "\n",
    "c = np.random.randn(4,3,2)\n",
    "print(f\"c = {c}\")"
   ]
  },
  {
   "attachments": {},
   "cell_type": "markdown",
   "metadata": {},
   "source": [
    "# 5.numpy.random.normal()\n",
    "`numpy.random.normal(loc=0.0, scale=1.0, size=None)`\n",
    "- `loc`：float\n",
    "  - 此概率分布的均值（对应着整个分布的中心centre）\n",
    "- `scale`：float\n",
    "  - 此概率分布的标准差（对应于分布的宽度，scale越大越矮胖，scale越小，越瘦高）\n",
    "- `size`：int or tuple of ints\n",
    "  - 指定生成的正态分布矩阵的维度（例：若size=(1, 1, 2)，则输出的矩阵的shape即形状为 1 X 1 X 2 X N（N为mean的长度））。"
   ]
  },
  {
   "attachments": {},
   "cell_type": "markdown",
   "metadata": {},
   "source": [
    "### 5.1例子"
   ]
  },
  {
   "cell_type": "code",
   "execution_count": 2,
   "metadata": {},
   "outputs": [
    {
     "name": "stdout",
     "output_type": "stream",
     "text": [
      "s = \n",
      " [-0.06759166 -0.00461473  0.07746905  0.5224282   0.0125972   0.19977031\n",
      "  0.64467701  0.57083843 -0.21713923  0.60831131  0.7900207   0.48657971\n",
      "  0.65163977  0.65660297  0.32247673  0.54119635  0.19573182  0.28077981\n",
      "  0.90705616  0.51965797 -0.02066675  0.64998974  1.10841677  0.56226716\n",
      "  0.24965242  0.63772502  0.64467193  0.21983596  0.16121545  0.52578256\n",
      "  0.34355874  0.67793979  0.84574574  0.20735722  0.76284019  0.4616307\n",
      "  0.80775826  0.40303956  0.1529728   0.46853921  0.52186955  0.58826671\n",
      " -0.03179286  0.41380769  0.76607738  0.53382443  0.74277874  0.26905746\n",
      "  0.3646349   0.63402035  0.72502216  0.22783512  0.26040798  0.27658396\n",
      "  1.12950714  0.13435197 -0.0167097   0.49486667  0.78998869  0.44078788\n",
      "  0.82729362  0.23212949  0.46586745 -0.13287399  0.70478732  0.32994032\n",
      "  0.45686035 -0.3580684   0.81345209  0.72275454  0.83302954  0.11150524\n",
      "  0.17359101  0.37699529  0.73253333  0.44666605  0.00571897  0.5576226\n",
      "  0.22045853  0.13626051  0.03080947  0.32727315  0.70253899  0.83636487\n",
      "  0.7832035   0.80201223  0.9699728   0.6701419   0.77536793  0.10195817\n",
      "  0.67715268  0.8044258   0.84079611  0.58121731  0.94833215  0.44114209\n",
      "  1.03290308  0.50392455  0.38116857  0.27862559] \n",
      "\n",
      "mean of a =  0.46979801376366803 \n",
      "\n",
      "std of a =  0.3076879043649844 \n",
      "\n"
     ]
    }
   ],
   "source": [
    "import numpy as np\n",
    "\n",
    "s = np.random.normal(loc=0.5,scale=0.3,size=(100))\n",
    "print('s = \\n',s,'\\n')\n",
    "print('mean of a = ',s.mean(),'\\n')\n",
    "print('std of a = ',s.std(),'\\n')#计算数组的标准差\n"
   ]
  },
  {
   "attachments": {},
   "cell_type": "markdown",
   "metadata": {},
   "source": [
    "利用直方图对样本数据可视化"
   ]
  },
  {
   "cell_type": "code",
   "execution_count": 5,
   "metadata": {},
   "outputs": [
    {
     "data": {
      "text/plain": [
       "(array([ 1.,  1.,  0.,  2.,  6.,  2.,  6.,  8.,  6.,  7.,  6., 11.,  7.,\n",
       "        10.,  6., 11.,  4.,  3.,  1.,  2.]),\n",
       " array([-0.3580684 , -0.28368962, -0.20931084, -0.13493207, -0.06055329,\n",
       "         0.01382549,  0.08820426,  0.16258304,  0.23696182,  0.31134059,\n",
       "         0.38571937,  0.46009815,  0.53447692,  0.6088557 ,  0.68323448,\n",
       "         0.75761325,  0.83199203,  0.90637081,  0.98074958,  1.05512836,\n",
       "         1.12950714]),\n",
       " <BarContainer object of 20 artists>)"
      ]
     },
     "execution_count": 5,
     "metadata": {},
     "output_type": "execute_result"
    },
    {
     "data": {
      "image/png": "[encoded data removed]",
      "text/plain": [
       "<Figure size 640x480 with 1 Axes>"
      ]
     },
     "metadata": {},
     "output_type": "display_data"
    }
   ],
   "source": [
    "import numpy as np\n",
    "import matplotlib.pyplot as plt\n",
    "fig = plt.figure()\n",
    "axe = plt.axes()\n",
    "\n",
    "axe.hist(s,bins=20,edgecolor='r')"
   ]
  },
  {
   "attachments": {},
   "cell_type": "markdown",
   "metadata": {},
   "source": [
    "### 5.2将高斯分布的数据设定在制定范围内"
   ]
  },
  {
   "cell_type": "code",
   "execution_count": 2,
   "metadata": {},
   "outputs": [
    {
     "name": "stdout",
     "output_type": "stream",
     "text": [
      "arr = \n",
      " [0.54906117 0.50129035 0.50237652 0.54249529 0.39569587 0.46924696\n",
      " 0.5683525  0.5118786  0.51725372 0.46360459 0.61031439 0.56901693\n",
      " 0.4439544  0.62394605 0.61216381 0.70417472 0.557131   0.31671793\n",
      " 0.43653428 0.42126155 0.3283644  0.41660571 0.45136684 0.4733407\n",
      " 0.50510856 0.48237079 0.52671389 0.56327043 0.40071172 0.55574153\n",
      " 0.48557691 0.42003092 0.50524577 0.4565647  0.59872295 0.49276105\n",
      " 0.50150812 0.35070687 0.78800207 0.41718499 0.45252066 0.41103117\n",
      " 0.48328106 0.51189753 0.59275982 0.58082566 0.65247653 0.50810216\n",
      " 0.44781567 0.66181116 0.51487072 0.50309457 0.47533284 0.56832345\n",
      " 0.37825475 0.46845312 0.54183344 0.57571383 0.52389701 0.38348478\n",
      " 0.41593903 0.51852045 0.47129121 0.71695469 0.62006241 0.38741064\n",
      " 0.57628585 0.41530185 0.61654624 0.50071247 0.49622982 0.36125909\n",
      " 0.55517471 0.48571477 0.44832436 0.42134907 0.46760785 0.50647941\n",
      " 0.45536385 0.52687274 0.6596202  0.33469703 0.60919447 0.43013301\n",
      " 0.44445875 0.61982481 0.49869348 0.57975878 0.39553404 0.38938662\n",
      " 0.52797721 0.4239901  0.52446064 0.57081464 0.54154548 0.36602034\n",
      " 0.54429638 0.5332465  0.58787465 0.35531569] \n",
      "\n",
      "mean of arr = \n",
      " 0.5017239280330584 \n",
      "\n",
      "std of arr = \n",
      " 0.08899849707602955 \n",
      "\n"
     ]
    },
    {
     "data": {
      "text/plain": [
       "(array([ 6.,  8., 19., 20., 19., 15.,  7.,  3.,  2.,  1.]),\n",
       " array([0.31671793, 0.36384634, 0.41097475, 0.45810317, 0.50523158,\n",
       "        0.55236   , 0.59948841, 0.64661683, 0.69374524, 0.74087366,\n",
       "        0.78800207]),\n",
       " <BarContainer object of 10 artists>)"
      ]
     },
     "execution_count": 2,
     "metadata": {},
     "output_type": "execute_result"
    },
    {
     "data": {
      "image/png": "[encoded data removed]",
      "text/plain": [
       "<Figure size 640x480 with 1 Axes>"
      ]
     },
     "metadata": {},
     "output_type": "display_data"
    }
   ],
   "source": [
    "import numpy as np\n",
    "import matplotlib.pyplot as plt\n",
    "\n",
    "fig = plt.figure()\n",
    "axe = plt.axes()\n",
    "\n",
    "# 设置随机种子，保证每次生成的随机数都相同\n",
    "#np.random.seed(0)\n",
    "\n",
    "# 生成高斯分布的随机数\n",
    "arr = np.random.normal(loc=0.5, scale=0.1, size=(100))\n",
    "\n",
    "# 将所有数限制在0到1之间（左闭右开）\n",
    "arr = np.clip(arr, 0.0, 1.0)\n",
    "\n",
    "print('arr = \\n',arr,'\\n')\n",
    "print('mean of arr = \\n',arr.mean(),'\\n')\n",
    "print('std of arr = \\n',arr.std(),'\\n')\n",
    "\n",
    "axe.hist(arr,bins=10,edgecolor='r')\n"
   ]
  }
 ],
 "metadata": {
  "kernelspec": {
   "display_name": "DL",
   "language": "python",
   "name": "python3"
  },
  "language_info": {
   "codemirror_mode": {
    "name": "ipython",
    "version": 3
   },
   "file_extension": ".py",
   "mimetype": "text/x-python",
   "name": "python",
   "nbconvert_exporter": "python",
   "pygments_lexer": "ipython3",
   "version": "3.9.16"
  },
  "orig_nbformat": 4
 },
 "nbformat": 4,
 "nbformat_minor": 2
}
