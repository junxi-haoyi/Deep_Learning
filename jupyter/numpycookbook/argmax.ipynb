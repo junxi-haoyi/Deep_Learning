{
 "cells": [
  {
   "attachments": {},
   "cell_type": "markdown",
   "metadata": {},
   "source": [
    "# 1.numpy.argmax\n",
    "`numpy.argmax(a, axis=None, out=None)`\n",
    "\n",
    "- Parameters:\n",
    "            \n",
    "            a : array_like\n",
    "- axis : int, 可选\n",
    "  \n",
    "            默认情况下，索引的是平铺的数组，否则沿指定的轴。\n",
    "\n",
    "- out : array, 可选\n",
    "  \n",
    "            如果提供，结果以合适的形状和类型被插入到此数组中。  \n",
    "\n",
    "-  index_array : ndarray of ints\n",
    "\n",
    "            返回最大值的索引"
   ]
  },
  {
   "cell_type": "code",
   "execution_count": 11,
   "metadata": {},
   "outputs": [
    {
     "name": "stdout",
     "output_type": "stream",
     "text": [
      "a = \n",
      " [[4 5 6]\n",
      " [2 3 4]\n",
      " [3 4 5]] \n",
      "\n",
      "a.argmax when axis=0 \n",
      " [0 0 0] \n",
      "\n",
      "a.argmax when axis=1 \n",
      " [2 2 2]\n"
     ]
    }
   ],
   "source": [
    "import numpy as np\n",
    "\n",
    "a = np.array([range(i,i+3) for i in [4,2,3]])\n",
    "print('a = \\n',a,'\\n')\n",
    "\n",
    "print('a.argmax when axis=0 \\n',a.argmax(axis=0),'\\n')\n",
    "print('a.argmax when axis=1 \\n',a.argmax(axis=1))"
   ]
  }
 ],
 "metadata": {
  "kernelspec": {
   "display_name": "DL",
   "language": "python",
   "name": "python3"
  },
  "language_info": {
   "codemirror_mode": {
    "name": "ipython",
    "version": 3
   },
   "file_extension": ".py",
   "mimetype": "text/x-python",
   "name": "python",
   "nbconvert_exporter": "python",
   "pygments_lexer": "ipython3",
   "version": "3.9.16"
  },
  "orig_nbformat": 4
 },
 "nbformat": 4,
 "nbformat_minor": 2
}
