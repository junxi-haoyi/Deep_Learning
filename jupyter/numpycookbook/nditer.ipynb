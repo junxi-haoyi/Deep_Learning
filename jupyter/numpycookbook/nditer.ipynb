{
 "cells": [
  {
   "attachments": {},
   "cell_type": "markdown",
   "metadata": {},
   "source": [
    "# 1.numpy.nditer\n",
    "`class numpy.nditer(op, flags=None, op_flags=None, op_dtypes=None, order='K', casting='safe', op_axes=None, itershape=None, buffersize=0)`\n",
    "\n",
    "- **op**:ndarray 或 array_like 序列,需要迭代的数组\n",
    "- **flags**:str序列，可选。用于控制迭代器行为的标志\n",
    "  - `buffered` 在需要时启用缓冲\n",
    "  - `c_index` 导致跟踪 C 顺序索引\n",
    "  - `f_index` 导致跟踪 Fortran 顺序索引。\n",
    "  - `multi_index` 导致跟踪一个多索引，或一个索引元组，每个迭代维度一个。\n",
    "  - `external_loop`导致给定的值是具有多个值的一维数组，而不是零维数组。\n",
    "  - `common_dtype`会将所有操作数转换为公共数据类型，并根据需要进行复制或缓冲。\n",
    "  - \n",
    "\n",
    "- **op_flags**:str列表，可选。这是每个操作数的标志列表。至少，必须指定“readonly”，“readwrite”或“writeonly”中的一个。\n",
    "  - `readwrite`表示将读取和写入操作数\n",
    "  - `readonly`表示只读取操作数。\n",
    "  - `writeonly`表示只会写入操作数。\n",
    "  - `no_broadcast`阻止操作数被广播。"
   ]
  },
  {
   "attachments": {},
   "cell_type": "markdown",
   "metadata": {},
   "source": [
    "### 1.1默认迭代\n",
    "以上实例不是使用标准 C 或者 Fortran 顺序，选择的顺序是和数组内存布局一致的，这样做的目的是为了提升访问的效率，默认是行顺序优先（row-major,或者说C-order）"
   ]
  },
  {
   "cell_type": "code",
   "execution_count": 1,
   "metadata": {},
   "outputs": [
    {
     "name": "stdout",
     "output_type": "stream",
     "text": [
      "a =\n",
      " [[2 3 4]\n",
      " [4 5 6]\n",
      " [6 7 8]]\n",
      "\n",
      "迭代输出的元素\n",
      "2,3,4,4,5,6,6,7,8,"
     ]
    }
   ],
   "source": [
    "import numpy as np\n",
    "\n",
    "a = np.array([range(i,i+3) for i in [2,4,6]])\n",
    "print(f\"a =\\n {a}\\n\")\n",
    "  \n",
    "print(\"迭代输出的元素\")\n",
    "for x in np.nditer(a):\n",
    "    print(x,end=\",\")"
   ]
  },
  {
   "attachments": {},
   "cell_type": "markdown",
   "metadata": {},
   "source": [
    "这反映了默认情况下只需访问每个元素，而无需考虑其特定顺序。我们可以通过迭代上述数组的转置来看到这一点，并与以 C 顺序访问数组转置的 copy 方式做对比，如下实例\n",
    "\n",
    "`a.T`为矩阵的转制"
   ]
  },
  {
   "cell_type": "code",
   "execution_count": 2,
   "metadata": {},
   "outputs": [
    {
     "name": "stdout",
     "output_type": "stream",
     "text": [
      "a=\n",
      " [[0.11476824 0.5105539  0.77588368 0.32751824]\n",
      " [0.48918067 0.62138278 0.56978691 0.6221257 ]\n",
      " [0.17921874 0.16896893 0.22558953 0.49966717]] \n",
      "\n",
      "矩阵的转制\n",
      "[[0.11476824 0.48918067 0.17921874]\n",
      " [0.5105539  0.62138278 0.16896893]\n",
      " [0.77588368 0.56978691 0.22558953]\n",
      " [0.32751824 0.6221257  0.49966717]] \n",
      "\n",
      "0.11476824376656292,\n",
      "0.48918067446960134,\n",
      "0.17921874025296158,\n",
      "0.5105539026096217,\n",
      "0.6213827750861525,\n",
      "0.16896893025811444,\n",
      "0.7758836795920562,\n",
      "0.5697869074373151,\n",
      "0.22558952772457708,\n",
      "0.3275182405236001,\n",
      "0.6221256989049323,\n",
      "0.4996671691612481,\n"
     ]
    }
   ],
   "source": [
    "import numpy as np\n",
    "\n",
    "a = np.random.random((3,4))\n",
    "print('a=\\n',a,'\\n')\n",
    "print(\"矩阵的转制\")\n",
    "print(a.T,'\\n')\n",
    "\n",
    "for idx in np.nditer(a.T.copy(order='C')):\n",
    "    print(idx,end=',\\n')"
   ]
  },
  {
   "attachments": {},
   "cell_type": "markdown",
   "metadata": {},
   "source": [
    "### 1.2单维迭代"
   ]
  },
  {
   "cell_type": "code",
   "execution_count": 3,
   "metadata": {},
   "outputs": [
    {
     "name": "stdout",
     "output_type": "stream",
     "text": [
      "value = 0,index = 0\n",
      "value = 1,index = 2\n",
      "value = 2,index = 4\n",
      "value = 3,index = 1\n",
      "value = 4,index = 3\n",
      "value = 5,index = 5\n"
     ]
    }
   ],
   "source": [
    "import numpy as np\n",
    "\n",
    "x = np.arange(6).reshape(2,3)\n",
    "it = np.nditer(x,flags=['f_index'])\n",
    "\n",
    "while not it.finished:\n",
    "    print(f\"value = {it[0]},index = {it.index}\")\n",
    "    it.iternext()#it.iternext()表示进入下一次迭代，如果不加这句，输出结果就一直是0,并且不间断输出"
   ]
  },
  {
   "attachments": {},
   "cell_type": "markdown",
   "metadata": {},
   "source": [
    "### 1.3多维迭代"
   ]
  },
  {
   "cell_type": "code",
   "execution_count": 4,
   "metadata": {},
   "outputs": [
    {
     "name": "stdout",
     "output_type": "stream",
     "text": [
      "x = \n",
      "[[0 1 2]\n",
      " [3 4 5]]\n",
      "value = 0,index = (0, 0)\n",
      "value = 1,index = (0, 1)\n",
      "value = 2,index = (0, 2)\n",
      "value = 3,index = (1, 0)\n",
      "value = 4,index = (1, 1)\n",
      "value = 5,index = (1, 2)\n"
     ]
    }
   ],
   "source": [
    "import numpy as np\n",
    "\n",
    "x = np.arange(6).reshape(2,3)\n",
    "print(f\"x = \\n{x}\")\n",
    "it = np.nditer(x,flags=['multi_index'],op_flags=['readwrite'])\n",
    "\n",
    "while not it.finished:\n",
    "    print(f\"value = {it[0]},index = {it.multi_index}\")\n",
    "    it.iternext()"
   ]
  },
  {
   "attachments": {},
   "cell_type": "markdown",
   "metadata": {},
   "source": [
    "### 1.4列顺序迭代\n",
    "`for x in np.nditer(a, order='F')`:Fortran order，即是列序优先；"
   ]
  },
  {
   "cell_type": "code",
   "execution_count": 5,
   "metadata": {},
   "outputs": [
    {
     "name": "stdout",
     "output_type": "stream",
     "text": [
      "x = [[0. 1. 2. 3. 4.]\n",
      " [5. 6. 7. 8. 9.]]\n",
      "value = 0.0,index = 0\n",
      "value = 5.0,index = 1\n",
      "value = 1.0,index = 2\n",
      "value = 6.0,index = 3\n",
      "value = 2.0,index = 4\n",
      "value = 7.0,index = 5\n",
      "value = 3.0,index = 6\n",
      "value = 8.0,index = 7\n",
      "value = 4.0,index = 8\n",
      "value = 9.0,index = 9\n"
     ]
    }
   ],
   "source": [
    "import numpy as np\n",
    "x = np.linspace(0,9,10).reshape(2,5)\n",
    "print(f\"x = {x}\")\n",
    "\n",
    "it = np.nditer(x,flags=['f_index'],order='F')\n",
    "while not it.finished:\n",
    "    print(f\"value = {it[0]},index = {it.index}\")\n",
    "    it.iternext()\n",
    "#可以看到输出结果是从列开始遍历"
   ]
  },
  {
   "attachments": {},
   "cell_type": "markdown",
   "metadata": {},
   "source": [
    "### 1.5行顺序迭代\n",
    "`for x in np.nditer(a.T, order='C')`:C order，即是行序优先；"
   ]
  },
  {
   "cell_type": "code",
   "execution_count": null,
   "metadata": {},
   "outputs": [],
   "source": [
    "import numpy as np\n",
    "\n",
    "x = np.array([range(i,i+3) for i in [2,4,6]])\n",
    "print(f\"x = {x}\")\n",
    "\n",
    "it = np.nditer(x,flags=[\"c_index\"],order=\"C\")\n",
    "while not it.finished:\n",
    "    print(f\"value = {it[0]},index = {it.index}\")\n",
    "    it.iternext()"
   ]
  }
 ],
 "metadata": {
  "kernelspec": {
   "display_name": "DL",
   "language": "python",
   "name": "python3"
  },
  "language_info": {
   "codemirror_mode": {
    "name": "ipython",
    "version": 3
   },
   "file_extension": ".py",
   "mimetype": "text/x-python",
   "name": "python",
   "nbconvert_exporter": "python",
   "pygments_lexer": "ipython3",
   "version": "3.9.16"
  },
  "orig_nbformat": 4
 },
 "nbformat": 4,
 "nbformat_minor": 2
}
