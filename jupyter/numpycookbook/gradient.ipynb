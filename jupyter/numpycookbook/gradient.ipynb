{
 "cells": [
  {
   "attachments": {},
   "cell_type": "markdown",
   "metadata": {},
   "source": [
    "# 1.numpy.gradient\n",
    "\n",
    "&emsp;&emsp;``numpy.gradient`` 是 NumPy 库中的一个函数，用于计算一个多维数组的梯度。梯度可以理解为函数在每个点处的斜率或变化率，是一个向量。在一维情况下，梯度是一个标量值，表示函数在该点的斜率；在二维情况下，梯度是一个二维向量，表示函数在该点的梯度向量，其中梯度向量的模长为函数在该点处的变化率，方向为变化率最快的方向。\n",
    "\n",
    "&emsp;&emsp;``numpy.gradient`` 函数可以计算一个多维数组沿着各个维度的梯度。它的输入参数是一个多维数组，返回值是一个与输入数组同样维度的元组，元组中的每个元素是一个表示梯度的数组。对于二维数组，返回值元组中的第一个元素是 x 方向的梯度数组，第二个元素是 y 方向的梯度数组。\n",
    "\n",
    "``numpy.gradient(f, *varargs, axis=None, edge_order=None)``\n",
    "\n",
    "其中，f 是需要求梯度的多维数组，axis 参数指定计算梯度的方向，edge_order 参数指定处理边缘值的方式\n",
    "\n",
    "**`注意：在二维数组中，列表示x方向，行表示y方向`**\n",
    "\n",
    "**`numpy.gradient先返回x方向的梯度，后返回y方向梯度`**"
   ]
  },
  {
   "cell_type": "code",
   "execution_count": 1,
   "metadata": {},
   "outputs": [
    {
     "name": "stdout",
     "output_type": "stream",
     "text": [
      "Array a:\n",
      "[[1 2 3]\n",
      " [4 5 6]\n",
      " [7 8 9]]\n",
      "Gradient in x direction:\n",
      "[[3. 3. 3.]\n",
      " [3. 3. 3.]\n",
      " [3. 3. 3.]]\n",
      "Gradient in y direction:\n",
      "[[1. 1. 1.]\n",
      " [1. 1. 1.]\n",
      " [1. 1. 1.]]\n"
     ]
    }
   ],
   "source": [
    "import matplotlib.pyplot as plt\n",
    "import numpy as np\n",
    "\n",
    "# 创建一个 3x3 的二维数组\n",
    "a = np.array([[1, 2, 3], [4, 5, 6], [7, 8, 9]])\n",
    "\n",
    "# 计算数组在 x 和 y 方向上的梯度\n",
    "gx, gy = np.gradient(a)\n",
    "#\n",
    "\n",
    "# 输出计算结果\n",
    "print(\"Array a:\")\n",
    "print(a)\n",
    "print(\"Gradient in x direction:\")\n",
    "print(gx)\n",
    "print(\"Gradient in y direction:\")\n",
    "print(gy)"
   ]
  }
 ],
 "metadata": {
  "kernelspec": {
   "display_name": "DL",
   "language": "python",
   "name": "python3"
  },
  "language_info": {
   "codemirror_mode": {
    "name": "ipython",
    "version": 3
   },
   "file_extension": ".py",
   "mimetype": "text/x-python",
   "name": "python",
   "nbconvert_exporter": "python",
   "pygments_lexer": "ipython3",
   "version": "3.9.16"
  },
  "orig_nbformat": 4
 },
 "nbformat": 4,
 "nbformat_minor": 2
}
