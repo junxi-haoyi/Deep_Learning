{
 "cells": [
  {
   "attachments": {},
   "cell_type": "markdown",
   "metadata": {},
   "source": [
    "# numpy笔记 重要函数"
   ]
  },
  {
   "attachments": {},
   "cell_type": "markdown",
   "metadata": {},
   "source": [
    "## a==b 返回bool类型数组"
   ]
  },
  {
   "cell_type": "code",
   "execution_count": 14,
   "metadata": {},
   "outputs": [
    {
     "name": "stdout",
     "output_type": "stream",
     "text": [
      "[0 0 1 1 1 1]\n",
      "[False False  True  True  True  True]\n"
     ]
    }
   ],
   "source": [
    "import numpy as np\n",
    "\n",
    "a = np.array([1,2,3,4,5,6])\n",
    "b = np.array([0,0,3,4,5,6])\n",
    "c = np.array(a==b,dtype=np.int8)\n",
    "d = np.array(a==b)\n",
    "print(c)\n",
    "print(d)"
   ]
  },
  {
   "attachments": {},
   "cell_type": "markdown",
   "metadata": {},
   "source": [
    "##  shape reshape"
   ]
  },
  {
   "cell_type": "code",
   "execution_count": 12,
   "metadata": {},
   "outputs": [
    {
     "name": "stdout",
     "output_type": "stream",
     "text": [
      "[1 2 3 4 5 6]\n",
      "y size :6\n",
      "y shape 1:(6,)\n",
      "y reshape 2:[[1]\n",
      " [2]\n",
      " [3]\n",
      " [4]\n",
      " [5]\n",
      " [6]]\n",
      "y reshape shape :(1, 6)\n",
      "y reshape :[[1 2 3 4 5 6]]\n"
     ]
    }
   ],
   "source": [
    "import numpy as np\n",
    "import torch\n",
    "\n",
    "y = np.array([1,2,3,4,5,6])\n",
    "print(y)\n",
    "print(f\"y size :{y.size}\")\n",
    "print(f\"y shape 1:{y.shape}\")\n",
    "x = y.reshape(1,y.size)\n",
    "z = y.reshape(y.size,1)\n",
    "print(f\"y reshape 2:{z}\")\n",
    "print(f\"y reshape shape :{x.shape}\")\n",
    "print(f\"y reshape :{y.reshape(1,y.size)}\")#reshape 是将数组变为二维以上的数组"
   ]
  },
  {
   "attachments": {},
   "cell_type": "markdown",
   "metadata": {},
   "source": [
    "### numpy 的广播功能"
   ]
  },
  {
   "cell_type": "code",
   "execution_count": 14,
   "metadata": {},
   "outputs": [
    {
     "name": "stdout",
     "output_type": "stream",
     "text": [
      "a=[5 6 7]\n",
      "b=[1 2 3]\n",
      "a*b=[ 5 12 21]\n",
      "a*2=[10 12 14]\n"
     ]
    }
   ],
   "source": [
    "import numpy as np\n",
    "\n",
    "a = np.array([5,6,7])\n",
    "b = np.array([1,2,3])\n",
    "#矩阵对应位置可直接相乘\n",
    "c = a*b\n",
    "print(f\"a={a}\")\n",
    "print(f\"b={b}\")\n",
    "print(f\"a*b={c}\")\n",
    "print(f\"a*2={a*2}\")"
   ]
  },
  {
   "cell_type": "code",
   "execution_count": 1,
   "metadata": {},
   "outputs": [
    {
     "name": "stdout",
     "output_type": "stream",
     "text": [
      "x = \n",
      " [[2 3 4]\n",
      " [3 4 5]\n",
      " [4 5 6]] \n",
      "\n",
      "[[-2 -2 -2]\n",
      " [-1 -1 -1]\n",
      " [ 0  0  0]]\n"
     ]
    }
   ],
   "source": [
    "import numpy as np\n",
    "\n",
    "x = np.array([range(i,i+3) for i in [2,3,4]])\n",
    "print('x = \\n',x,'\\n')\n",
    "\n",
    "print(x - x.max(axis=0))"
   ]
  },
  {
   "attachments": {},
   "cell_type": "markdown",
   "metadata": {},
   "source": [
    "## numpy创建数组\n",
    "###  1.numpy.empty\n",
    "numpy.empty(shape, dtype = float, order = 'C')\n",
    "- shape :数组形状\n",
    "- dtype :数据类型，可选\n",
    "- order :有\"C\"和\"F\"两个选项,分别代表，行优先和列优先，在计算机内存中的存储元素的顺序。"
   ]
  },
  {
   "cell_type": "code",
   "execution_count": 9,
   "metadata": {},
   "outputs": [
    {
     "name": "stdout",
     "output_type": "stream",
     "text": [
      "[[ 94686051388357               0]\n",
      " [140127069206064 140127809968432]\n",
      " [140127763098736 140127809968432]]\n"
     ]
    }
   ],
   "source": [
    "import numpy as np\n",
    "\n",
    "x = np.empty([3,2], dtype = int) \n",
    "print (x)"
   ]
  },
  {
   "attachments": {},
   "cell_type": "markdown",
   "metadata": {},
   "source": [
    "### 2.numpy.zeros\n",
    "numpy.zeros(shape, dtype = float, order = 'C')\n",
    "- shape :数组形状\n",
    "- dtype :数据类型，可选\n",
    "- order :'C' 用于 C 的行数组，或者 'F' 用于 FORTRAN 的列数组"
   ]
  },
  {
   "cell_type": "code",
   "execution_count": 9,
   "metadata": {},
   "outputs": [
    {
     "name": "stdout",
     "output_type": "stream",
     "text": [
      "[0. 0. 0. 0. 0.]\n",
      "[[0 0 0]\n",
      " [0 0 0]\n",
      " [0 0 0]\n",
      " [0 0 0]\n",
      " [0 0 0]]\n",
      "[[(0, 0) (0, 0)]\n",
      " [(0, 0) (0, 0)]]\n",
      "<class 'numpy.ndarray'>\n"
     ]
    }
   ],
   "source": [
    "\n",
    "import numpy as np\n",
    " \n",
    "# 默认为浮点数\n",
    "x = np.zeros(5) \n",
    "print(x)\n",
    " \n",
    "# 设置类型为整数\n",
    "y = np.zeros((5,3), dtype = int) \n",
    "print(y)\n",
    " \n",
    "# 自定义类型\n",
    "#z = np.zeros((2,2), dtype = [('x', 'i4'), ('y', 'i4')]) \n",
    "z = np.zeros((2,2), dtype = [('x', 'i4'), ('y', 'i4')]) # int8, int16, int32, int64 四种数据类型可以使用字符串 'i1', 'i2','i4','i8' 代替\n",
    "print(z)\n",
    "print(type(z))"
   ]
  },
  {
   "attachments": {},
   "cell_type": "markdown",
   "metadata": {},
   "source": [
    "### 3.numpy.ones\n",
    "numpy.ones(shape, dtype = None, order = 'C')\n",
    "- shape :数组形状\n",
    "- dtype :数据类型，可选\n",
    "- order :'C' 用于 C 的行数组，或者 'F' 用于 FORTRAN 的列数组"
   ]
  },
  {
   "cell_type": "code",
   "execution_count": 10,
   "metadata": {},
   "outputs": [
    {
     "name": "stdout",
     "output_type": "stream",
     "text": [
      "[1. 1. 1. 1. 1.]\n",
      "[[1 1]\n",
      " [1 1]]\n"
     ]
    }
   ],
   "source": [
    "\n",
    "import numpy as np\n",
    " \n",
    "# 默认为浮点数\n",
    "x = np.ones(5) \n",
    "print(x)\n",
    " \n",
    "# 自定义类型\n",
    "x = np.ones([2,2], dtype = int)\n",
    "print(x)\n"
   ]
  },
  {
   "attachments": {},
   "cell_type": "markdown",
   "metadata": {},
   "source": [
    "###  4.numpy.arange\n",
    "numpy.arange(start, stop, step, dtype)\n",
    "- start:起始值，默认为0\n",
    "- stop:终止值（不包含）\n",
    "- step:步长，默认为1\n",
    "- dtype:返回ndarray的数据类型，如果没有提供，则会使用输入数据的类型。"
   ]
  },
  {
   "cell_type": "code",
   "execution_count": 11,
   "metadata": {},
   "outputs": [
    {
     "name": "stdout",
     "output_type": "stream",
     "text": [
      "[0 1 2 3 4]\n"
     ]
    }
   ],
   "source": [
    "\n",
    "import numpy as np\n",
    " \n",
    "x = np.arange(5)  \n",
    "print (x)\n"
   ]
  },
  {
   "cell_type": "code",
   "execution_count": 2,
   "metadata": {},
   "outputs": [
    {
     "name": "stdout",
     "output_type": "stream",
     "text": [
      "[0. 1. 2. 3. 4.]\n"
     ]
    }
   ],
   "source": [
    "\n",
    "import numpy as np\n",
    " \n",
    "# 设置了 dtype 类型为float\n",
    "x = np.arange(5, dtype =  float)  \n",
    "print (x)"
   ]
  },
  {
   "cell_type": "code",
   "execution_count": 13,
   "metadata": {},
   "outputs": [
    {
     "name": "stdout",
     "output_type": "stream",
     "text": [
      "[10 12 14 16 18]\n"
     ]
    }
   ],
   "source": [
    "#设置了起始值、终止值及步长：\n",
    "import numpy as np\n",
    "x = np.arange(10,20,2)  \n",
    "print (x)"
   ]
  },
  {
   "attachments": {},
   "cell_type": "markdown",
   "metadata": {},
   "source": [
    "###  5.numpy.linspace\n",
    "numpy.linspace 函数用于创建一个一维数组，数组是一个等差数列构成的，格式如下：\n",
    "np.linspace(start, stop, num=50, endpoint=True, retstep=False, dtype=None)\n",
    "- start:序列的起始值\n",
    "- stop:序列的终止值，如果endpoint为true，该值包含于数列中\n",
    "- num:要生成的等步长的样本数量，默认为50\n",
    "- endpoint:该值为 true 时，数列中包含stop值，反之不包含，默认是True。\n",
    "- retstep:如果为 True 时，生成的数组中会显示间距，反之不显示。 \n",
    "- dtype:ndarray 的数据类型\n"
   ]
  },
  {
   "cell_type": "code",
   "execution_count": 8,
   "metadata": {},
   "outputs": [
    {
     "name": "stdout",
     "output_type": "stream",
     "text": [
      "a = [0. 1. 2. 3. 4. 5. 6. 7. 8. 9.]\n",
      "a type : float64\n"
     ]
    }
   ],
   "source": [
    "import numpy as np\n",
    "\n",
    "a = np.linspace(0,9,10,dtype=float)\n",
    "\n",
    "print(f\"a = {a}\")\n",
    "print(f\"a type : {a.dtype}\")\n",
    "\n"
   ]
  },
  {
   "attachments": {},
   "cell_type": "markdown",
   "metadata": {},
   "source": [
    "# 6.numpy.shape对象\n",
    "调用该对象可以返还数组在某一维度上的长度"
   ]
  },
  {
   "cell_type": "code",
   "execution_count": 5,
   "metadata": {},
   "outputs": [
    {
     "name": "stdout",
     "output_type": "stream",
     "text": [
      "a = [[-10.          -8.94736842  -7.89473684  -6.84210526  -5.78947368\n",
      "   -4.73684211  -3.68421053  -2.63157895  -1.57894737  -0.52631579]\n",
      " [  0.52631579   1.57894737   2.63157895   3.68421053   4.73684211\n",
      "    5.78947368   6.84210526   7.89473684   8.94736842  10.        ]]\n",
      "a.shape = 2\n",
      "a.shape = 10\n"
     ]
    }
   ],
   "source": [
    "import numpy as np\n",
    "\n",
    "a = np.linspace(-10,10,20).reshape(2,10)\n",
    "print(f\"a = {a}\")\n",
    "print(f\"a.shape = {a.shape[0]}\")#注意这里shape后面是数组数组而不是元组即是“[]”而不是“()”\n",
    "print(f\"a.shape = {a.shape[1]}\")"
   ]
  },
  {
   "attachments": {},
   "cell_type": "markdown",
   "metadata": {},
   "source": [
    "# 7.使用y[:,0]查看或提取某一维度的数据"
   ]
  },
  {
   "cell_type": "code",
   "execution_count": 15,
   "metadata": {},
   "outputs": [
    {
     "name": "stdout",
     "output_type": "stream",
     "text": [
      "a = [[ 94686099944248               0 140127790322480]\n",
      " [140127791148080 140127067218224 140127790322544]]\n",
      "\n",
      "a[:,0] = [ 94686099944248 140127791148080]\n",
      "\n",
      "a[:,1] = [              0 140127067218224]\n",
      "\n",
      "a[:,2] = [140127790322480 140127790322544]\n",
      "\n",
      "a[0,:] = [ 94686099944248               0 140127790322480]\n",
      "\n"
     ]
    }
   ],
   "source": [
    "import numpy as np\n",
    "\n",
    "a = np.empty([2,3],dtype=int)\n",
    "print(f\"a = {a}\\n\")\n",
    "\n",
    "print(f\"a[:,0] = {a[:,0]}\\n\")#a[0,0] a[1,0]\n",
    "print(f\"a[:,1] = {a[:,1]}\\n\")#a[0,1] a[1,1]\n",
    "print(f\"a[:,2] = {a[:,2]}\\n\")#a[0,2] a[1,2]\n",
    "\n",
    "print(f\"a[0,:] = {a[0,:]}\\n\")\n"
   ]
  },
  {
   "attachments": {},
   "cell_type": "markdown",
   "metadata": {},
   "source": [
    "# 11.numpy中的数组复制\n",
    "在使用python时我们经常会处理数组，有的时候是复制有的时候不是，这里也是初学者最容易误解的地方，简单讲，可以分为下面三种情况"
   ]
  },
  {
   "attachments": {},
   "cell_type": "markdown",
   "metadata": {},
   "source": [
    "###  11.1不是复制的情况(No Copy at ALL)"
   ]
  },
  {
   "cell_type": "code",
   "execution_count": 1,
   "metadata": {},
   "outputs": [
    {
     "name": "stdout",
     "output_type": "stream",
     "text": [
      "a的shape为： (12,)\n",
      "b是a吗？ True\n",
      "a的shape变为： (3, 4)\n"
     ]
    }
   ],
   "source": [
    "import numpy as np\n",
    "a = np.arange(12) #a为一个序列\n",
    "b = a #没有创建新的对象\n",
    "print('a的shape为:', a.shape)  # 输出a的尺寸\n",
    "print('b是a吗?', b is a)  #ab 为同一个对象的两个名字\n",
    "b.shape = 3, 4 #将b的shape改变\n",
    "print('a的shape变为:', a.shape) #a的shanpe也跟着改变了\n",
    "\n"
   ]
  },
  {
   "attachments": {},
   "cell_type": "markdown",
   "metadata": {},
   "source": [
    "### 11.2查看或者浅复制\n",
    "不同的数组对象可以分型相同的数据，view方法创建一个与原来数组相同的新对象"
   ]
  },
  {
   "cell_type": "code",
   "execution_count": 3,
   "metadata": {},
   "outputs": [
    {
     "name": "stdout",
     "output_type": "stream",
     "text": [
      "c未改变时a的shape为: (12,)\n",
      "c是a吗 False\n",
      "c是以a为基础的吗 True\n",
      "c.shape : (3, 4)\n",
      "a.shape : (12,)\n"
     ]
    }
   ],
   "source": [
    "import numpy as np\n",
    "\n",
    "a = np.arange(12,dtype=float)\n",
    "c = a.view() #建立一个和a数组一样的c数组\n",
    "print('c未改变时a的shape为:',a.shape)\n",
    "print('c是a吗',c is a)\n",
    "print('c是以a为基础的吗',c.base is a)\n",
    "c.shape = 3,4\n",
    "print('c.shape :',c.shape)\n",
    "print('a.shape :',a.shape)\n",
    "\n"
   ]
  },
  {
   "attachments": {},
   "cell_type": "markdown",
   "metadata": {},
   "source": [
    "### 11.3深复制（Deep Copy）\n",
    "此时d是a的复制，只是单纯的复制，两者一点关系都没有"
   ]
  },
  {
   "cell_type": "code",
   "execution_count": 4,
   "metadata": {},
   "outputs": [
    {
     "name": "stdout",
     "output_type": "stream",
     "text": [
      "d is a : False\n",
      "d.base is a False\n"
     ]
    }
   ],
   "source": [
    "import numpy as np\n",
    "\n",
    "a = np.random.rand(3,4)\n",
    "d = a.copy()\n",
    "print('d is a :',d is a)\n",
    "print('d.base is a',d.base is a)"
   ]
  },
  {
   "attachments": {},
   "cell_type": "markdown",
   "metadata": {},
   "source": [
    "# 12.numpy.max"
   ]
  },
  {
   "cell_type": "code",
   "execution_count": null,
   "metadata": {},
   "outputs": [],
   "source": [
    "import numpy as np\n",
    "\n",
    "x = np.array([range(i,i+3) for i in [2,3,4]])\n",
    "print('x = \\n',x,'\\n')\n",
    "\n",
    "print(x - x.max(axis=0))"
   ]
  }
 ],
 "metadata": {
  "kernelspec": {
   "display_name": "base",
   "language": "python",
   "name": "python3"
  },
  "language_info": {
   "codemirror_mode": {
    "name": "ipython",
    "version": 3
   },
   "file_extension": ".py",
   "mimetype": "text/x-python",
   "name": "python",
   "nbconvert_exporter": "python",
   "pygments_lexer": "ipython3",
   "version": "3.9.16"
  },
  "orig_nbformat": 4,
  "vscode": {
   "interpreter": {
    "hash": "8bfb20456060622d3ab61085aec2a97c4464d59b63495e05deaf8bc090717944"
   }
  }
 },
 "nbformat": 4,
 "nbformat_minor": 2
}
