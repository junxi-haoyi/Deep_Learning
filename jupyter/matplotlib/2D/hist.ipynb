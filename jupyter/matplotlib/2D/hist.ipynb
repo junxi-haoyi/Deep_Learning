{
 "cells": [
  {
   "attachments": {},
   "cell_type": "markdown",
   "metadata": {},
   "source": [
    "# 1.pyplot.hist 画二维柱状图\n",
    "```python\n",
    "plt.hist(\n",
    "    x,# 指定要绘制直方图的数据\n",
    "    bins,# 设置长条形的数目\n",
    "    range,# 指定直方图数据的上下界，默认包含绘图数据的最大值和最小值（范围）\n",
    "    density=True or False, # 如果\"True\"，将y轴转化为密度刻度 默认为None\n",
    "    weights,# 该参数可为每一个数据点设置权重\n",
    "    cumulative=True or False,# 是否需要计算累计频数或频率 默认值False\n",
    "    bottom=0, # 可以为直方图的每个条形添加基准线，默认为0\n",
    "    histtype={'bar', 'barstacked', 'step', 'stepfilled'} # 设置样式\n",
    "               # bar柱状形数据并排，默认值。\n",
    "               # barstacked在柱状形数据重叠并排（相同的在一起）\n",
    "               # step柱状形颜色不填充 \n",
    "               # stepfilled填充的线性\n",
    "    align='mid' or 'left' or 'right', # 设置条形边界值的对其方式，默认为mid，除此还有’left’和’right’\n",
    "    orientation={'vertical', 'horizontal'},# 设置直方图的摆放方向，默认为垂直方向vertical\n",
    "    rwidth,# 设置直方图条形宽度的百分比\n",
    "    log=True or False,# 是否需要对绘图数据进行log变换 默认值False\n",
    "    color='r',# 设置直方图的填充色\n",
    "    label, # 设置直方图的标签\n",
    "    stacked=True or False, # 当有多个数据时，是否需要将直方图呈堆叠摆放，默认False水平摆放；\n",
    "    facecolor,# 设置长条形颜色(和color效果一致，设置color就不用再设置facecolor)\n",
    "    edgecolor,# 设置边框的颜色\n",
    "    alpha # 设置透明度  \n",
    ")\n",
    "# 注意组距，得到满意的展示效果\n",
    "# 注意y轴所代表的变量是频数还是频率\n",
    "```"
   ]
  },
  {
   "cell_type": "code",
   "execution_count": 16,
   "metadata": {},
   "outputs": [
    {
     "data": {
      "text/plain": [
       "(array([ 3.,  0.,  8., 16., 16., 17., 19., 11.,  6.,  4.]),\n",
       " array([-0.29998188, -0.15768794, -0.01539399,  0.12689996,  0.2691939 ,\n",
       "         0.41148785,  0.55378179,  0.69607574,  0.83836969,  0.98066363,\n",
       "         1.12295758]),\n",
       " <BarContainer object of 10 artists>)"
      ]
     },
     "execution_count": 16,
     "metadata": {},
     "output_type": "execute_result"
    },
    {
     "data": {
      "image/png": "[encoded data removed]",
      "text/plain": [
       "<Figure size 640x480 with 1 Axes>"
      ]
     },
     "metadata": {},
     "output_type": "display_data"
    }
   ],
   "source": [
    "import numpy as np\n",
    "import matplotlib.pyplot as plt\n",
    "fig = plt.figure()\n",
    "axe = plt.axes()\n",
    "\n",
    "a = np.random.normal(loc=0.5,scale=0.3,size=(100))\n",
    "\n",
    "axe.hist(a,bins=10,cumulative=False,edgecolor='r')\n",
    "\n"
   ]
  }
 ],
 "metadata": {
  "kernelspec": {
   "display_name": "DL",
   "language": "python",
   "name": "python3"
  },
  "language_info": {
   "codemirror_mode": {
    "name": "ipython",
    "version": 3
   },
   "file_extension": ".py",
   "mimetype": "text/x-python",
   "name": "python",
   "nbconvert_exporter": "python",
   "pygments_lexer": "ipython3",
   "version": "3.9.16"
  },
  "orig_nbformat": 4
 },
 "nbformat": 4,
 "nbformat_minor": 2
}
